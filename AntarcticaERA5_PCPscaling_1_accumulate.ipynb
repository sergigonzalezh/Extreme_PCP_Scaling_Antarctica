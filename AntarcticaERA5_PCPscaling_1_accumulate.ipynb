{
 "cells": [
  {
   "cell_type": "code",
   "execution_count": 1,
   "metadata": {},
   "outputs": [],
   "source": [
    "import os\n",
    "import netCDF4\n",
    "import numpy as np\n",
    "import pandas as pd\n",
    "\n",
    "import matplotlib.pyplot as plt\n",
    "import cartopy.crs as ccrs\n",
    "import cartopy.feature"
   ]
  },
  {
   "cell_type": "code",
   "execution_count": 2,
   "metadata": {},
   "outputs": [
    {
     "name": "stderr",
     "output_type": "stream",
     "text": [
      "<ipython-input-2-edfcd4eb1f15>:8: DeprecationWarning: tostring() is deprecated. Use tobytes() instead.\n",
      "  print(ncdf.variables)\n"
     ]
    },
    {
     "name": "stdout",
     "output_type": "stream",
     "text": [
      "{'time': <class 'netCDF4._netCDF4.Variable'>\n",
      "float64 time(time)\n",
      "    units: days since 1950-01-01 00:00:00.0\n",
      "unlimited dimensions: \n",
      "current shape = (14973,)\n",
      "filling on, default _FillValue of 9.969209968386869e+36 used, 'lon': <class 'netCDF4._netCDF4.Variable'>\n",
      "float32 lon(lon)\n",
      "unlimited dimensions: \n",
      "current shape = (1440,)\n",
      "filling on, default _FillValue of 9.969209968386869e+36 used, 'lat': <class 'netCDF4._netCDF4.Variable'>\n",
      "float32 lat(lat)\n",
      "unlimited dimensions: \n",
      "current shape = (121,)\n",
      "filling on, default _FillValue of 9.969209968386869e+36 used, 'pcp_Accum': <class 'netCDF4._netCDF4.Variable'>\n",
      "float32 pcp_Accum(time, lat, lon)\n",
      "    units: m\n",
      "unlimited dimensions: \n",
      "current shape = (14973, 121, 1440)\n",
      "filling on, default _FillValue of 9.969209968386869e+36 used}\n",
      "{'time': <class 'netCDF4._netCDF4.Dimension'>: name = 'time', size = 14973, 'lon': <class 'netCDF4._netCDF4.Dimension'>: name = 'lon', size = 1440, 'lat': <class 'netCDF4._netCDF4.Dimension'>: name = 'lat', size = 121}\n"
     ]
    }
   ],
   "source": [
    "## Load Data\n",
    "#Path\n",
    "os.chdir('D:\\\\Bigfiles\\\\ERA5_PCP')\n",
    "filename_PCP1 = 'ERA5_daily_pcp_1979-2020.nc'\n",
    "\n",
    "#Load netcdf\n",
    "ncdf = netCDF4.Dataset(filename_PCP1)\n",
    "print(ncdf.variables)\n",
    "print(ncdf.dimensions)\n",
    "\n",
    "#Get dimension\n",
    "lons = ncdf.variables['lon'][:]\n",
    "lats = ncdf.variables['lat'][:]\n",
    "times = ncdf.variables['time'][:]\n",
    "\n",
    "#Get variables\n",
    "pcp = ncdf.variables['pcp_Accum'][:]\n",
    "\n",
    "#Calculate datetime\n",
    "dtimes = np.empty(len(times), dtype='datetime64[h]')\n",
    "for i,t in enumerate(times):\n",
    "    dtimes[i] = np.datetime64('1900-01-01') + np.timedelta64(np.int64(t),'h')\n",
    "dtimes = dtimes.astype('datetime64')"
   ]
  },
  {
   "cell_type": "code",
   "execution_count": 3,
   "metadata": {},
   "outputs": [
    {
     "name": "stdout",
     "output_type": "stream",
     "text": [
      "['1979-01-02T00' '1979-01-03T00' '1979-01-04T00' ... '2019-12-28T00'\n",
      " '2019-12-29T00' '1900-01-01T00']\n"
     ]
    }
   ],
   "source": [
    "print(dtimes)"
   ]
  },
  {
   "cell_type": "code",
   "execution_count": 4,
   "metadata": {},
   "outputs": [
    {
     "name": "stdout",
     "output_type": "stream",
     "text": [
      "dict_keys(['time', 'lon', 'lat', 'pcp_Accum'])\n",
      "{'time': <class 'netCDF4._netCDF4.Dimension'>: name = 'time', size = 14973, 'lon': <class 'netCDF4._netCDF4.Dimension'>: name = 'lon', size = 1440, 'lat': <class 'netCDF4._netCDF4.Dimension'>: name = 'lat', size = 121}\n",
      "<class 'netCDF4._netCDF4.Variable'>\n",
      "float32 pcp_Accum(time, lat, lon)\n",
      "    units: m\n",
      "unlimited dimensions: \n",
      "current shape = (14973, 121, 1440)\n",
      "filling on, default _FillValue of 9.969209968386869e+36 used\n",
      "-180.0\n",
      "-90.0\n",
      "(14973, 121, 1440)\n"
     ]
    },
    {
     "name": "stderr",
     "output_type": "stream",
     "text": [
      "<ipython-input-4-7aa3da2ae676>:4: DeprecationWarning: tostring() is deprecated. Use tobytes() instead.\n",
      "  print(ncdf.variables['pcp_Accum'])\n"
     ]
    },
    {
     "name": "stdout",
     "output_type": "stream",
     "text": [
      "(121, 1440)\n",
      "[[32.563454  32.349197  30.541378  ... 34.3912    34.046272  33.656063 ]\n",
      " [36.69403   36.22645   34.54775   ... 36.431004  36.84023   36.95952  ]\n",
      " [35.83922   35.848663  35.9347    ... 35.66184   35.736362  35.82447  ]\n",
      " ...\n",
      " [ 4.4465046  4.450767   4.4542007 ...  4.4317045  4.4350195  4.4402294]\n",
      " [ 4.7627506  4.7660656  4.7684336 ...  4.755646   4.7589617  4.759435 ]\n",
      " [ 4.3142524  4.3142524  4.3142524 ...  4.3142524  4.3142524  4.3142524]]\n"
     ]
    },
    {
     "data": {
      "text/plain": [
       "110.35196685791016"
      ]
     },
     "execution_count": 4,
     "metadata": {},
     "output_type": "execute_result"
    }
   ],
   "source": [
    "#Print and check Variables\n",
    "print(ncdf.variables.keys())\n",
    "print(ncdf.dimensions)\n",
    "print(ncdf.variables['pcp_Accum'])\n",
    "print(ncdf.variables['lon'][:].min())\n",
    "print(ncdf.variables['lat'][:].min())\n",
    "\n",
    "ncdf.close()\n",
    "\n",
    "print(np.shape(pcp))\n",
    "PCP_max = np.max(pcp, axis=0)*1000\n",
    "print(np.shape(PCP_max))\n",
    "print(PCP_max)\n",
    "np.percentile(PCP_max, 100)"
   ]
  },
  {
   "cell_type": "code",
   "execution_count": null,
   "metadata": {},
   "outputs": [],
   "source": [
    "#Calculate cumulative sum\n",
    "PCP_c=pcp.cumsum(axis=0)\n",
    "print(np.shape(PCP_c))\n"
   ]
  },
  {
   "cell_type": "code",
   "execution_count": null,
   "metadata": {},
   "outputs": [],
   "source": [
    "#Write numpy array as NetCDF\n",
    "ncout = netCDF4.Dataset('ERA5_Accum3.nc','w','NETCDF4_classic'); # using netCDF3 for output format \n",
    "ncout.createDimension('lon',np.size(lats))\n",
    "ncout.createDimension('lat',np.size(lons))\n",
    "ncout.createDimension('time',np.shape(dtimes)[0])\n",
    "\n",
    "lonvar = ncout.createVariable('lon','float32',('lon')); lonvar[:] = lons;\n",
    "latvar = ncout.createVariable('lat','float32',('lat')); latvar[:] = lats;\n",
    "timevar = ncout.createVariable('time','float64',('time')); timevar[:] = times;\n",
    "myvar = ncout.createVariable('pcp_accum','float32',('time','lon','lat')); myvar.setncattr('units','m'); myvar[:] = PCP_c;\n",
    "\n",
    "ncout.close();"
   ]
  },
  {
   "cell_type": "code",
   "execution_count": null,
   "metadata": {},
   "outputs": [],
   "source": []
  }
 ],
 "metadata": {
  "kernelspec": {
   "display_name": "Python 3",
   "language": "python",
   "name": "python3"
  },
  "language_info": {
   "codemirror_mode": {
    "name": "ipython",
    "version": 3
   },
   "file_extension": ".py",
   "mimetype": "text/x-python",
   "name": "python",
   "nbconvert_exporter": "python",
   "pygments_lexer": "ipython3",
   "version": "3.8.5"
  }
 },
 "nbformat": 4,
 "nbformat_minor": 2
}
