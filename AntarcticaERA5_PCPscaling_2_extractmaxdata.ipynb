{
 "cells": [
  {
   "cell_type": "code",
   "execution_count": 1,
   "metadata": {},
   "outputs": [],
   "source": [
    "import os\n",
    "import netCDF4\n",
    "import numpy as np\n",
    "import pandas as pd\n",
    "\n",
    "import matplotlib.pyplot as plt\n",
    "import cartopy.crs as ccrs\n",
    "import cartopy.feature"
   ]
  },
  {
   "cell_type": "code",
   "execution_count": 2,
   "metadata": {},
   "outputs": [
    {
     "name": "stdout",
     "output_type": "stream",
     "text": [
      "<class 'netCDF4._netCDF4.Dataset'>\n",
      "root group (NETCDF4 data model, file format HDF5):\n",
      "    dimensions(sizes): lon(121), lat(1440), time(14973)\n",
      "    variables(dimensions): float32 lon(lon), float32 lat(lat), float64 time(time), float32 pcp_accum(time,lon,lat)\n",
      "    groups: \n"
     ]
    }
   ],
   "source": [
    "## Load Data\n",
    "#Path\n",
    "os.chdir('D:\\\\Bigfiles\\\\ERA5_PCP')\n",
    "filename_PCP_accum1 = 'ERA5_Accum.nc'\n",
    "\n",
    "#Load netcdf\n",
    "ncdf1 = netCDF4.Dataset(filename_PCP_accum1)\n",
    "print(ncdf1)\n",
    "\n",
    "#Get dimension\n",
    "lons = ncdf1.variables['lon'][:]\n",
    "lats = ncdf1.variables['lat'][:]\n",
    "times = ncdf1.variables['time'][:]\n",
    "\n",
    "#Get variables\n",
    "pcp = ncdf1.variables['pcp_accum'][:]\n",
    "\n",
    "#Calculate datetime\n",
    "dtimes = np.empty(len(times), dtype='datetime64[h]')\n",
    "for i,t in enumerate(times):\n",
    "    dtimes[i] = np.datetime64('1900-01-01') + np.timedelta64(np.int64(t),'h')\n",
    "dtimes = dtimes.astype('datetime64')"
   ]
  },
  {
   "cell_type": "code",
   "execution_count": 3,
   "metadata": {},
   "outputs": [
    {
     "name": "stdout",
     "output_type": "stream",
     "text": [
      "dict_keys(['lon', 'lat', 'time', 'pcp_accum'])\n",
      "{'lon': <class 'netCDF4._netCDF4.Dimension'>: name = 'lon', size = 121, 'lat': <class 'netCDF4._netCDF4.Dimension'>: name = 'lat', size = 1440, 'time': <class 'netCDF4._netCDF4.Dimension'>: name = 'time', size = 14973}\n",
      "<class 'netCDF4._netCDF4.Variable'>\n",
      "float32 pcp_accum(time, lon, lat)\n",
      "    units: m\n",
      "unlimited dimensions: \n",
      "current shape = (14973, 121, 1440)\n",
      "filling on, default _FillValue of 9.969209968386869e+36 used\n"
     ]
    },
    {
     "name": "stderr",
     "output_type": "stream",
     "text": [
      "<ipython-input-3-61b15370aedb>:4: DeprecationWarning: tostring() is deprecated. Use tobytes() instead.\n",
      "  print(ncdf1.variables['pcp_accum'])\n"
     ]
    },
    {
     "name": "stdout",
     "output_type": "stream",
     "text": [
      "[[1.0382205e-02 8.3689271e-03 6.0494076e-03 ... 6.9511845e-03\n",
      "  9.7241802e-03 1.2005663e-02]\n",
      " [1.1145417e-02 9.0455832e-03 6.6149263e-03 ... 8.2255751e-03\n",
      "  1.0867509e-02 1.2895019e-02]\n",
      " [1.1152274e-02 9.0538636e-03 6.6247592e-03 ... 8.2369605e-03\n",
      "  1.0876695e-02 1.2901747e-02]\n",
      " ...\n",
      " [4.4058506e+01 4.3760731e+01 4.3543755e+01 ... 4.4783092e+01\n",
      "  4.4548744e+01 4.4329758e+01]\n",
      " [4.4067436e+01 4.3770256e+01 4.3554367e+01 ... 4.4790295e+01\n",
      "  4.4556484e+01 4.4338078e+01]\n",
      " [4.4067436e+01 4.3770256e+01 4.3554367e+01 ... 4.4790295e+01\n",
      "  4.4556484e+01 4.4338078e+01]]\n",
      "[[1.0441850e-02 1.0371078e-02 8.1576500e-03 ... 8.9193089e-03\n",
      "  9.7435871e-03 1.0509904e-02]\n",
      " [1.1145417e-02 9.0455832e-03 6.6149263e-03 ... 8.2255751e-03\n",
      "  1.0867509e-02 1.2895019e-02]\n",
      " [1.1268198e-02 8.1899958e-03 4.8302626e-03 ... 9.9350689e-03\n",
      "  1.2464184e-02 1.2113694e-02]\n",
      " ...\n",
      " [3.5061905e-05 3.5061905e-05 3.4544388e-05 ... 3.6096942e-05\n",
      "  3.6096942e-05 3.5061905e-05]\n",
      " [5.2140029e-05 5.2140029e-05 5.2140029e-05 ... 5.2140029e-05\n",
      "  5.2140029e-05 5.2140029e-05]\n",
      " [5.0846233e-05 5.0846233e-05 5.0846233e-05 ... 5.0846233e-05\n",
      "  5.0846233e-05 5.0846233e-05]]\n",
      "[[9.2062727e-03 8.3689271e-03 7.7823200e-03 ... 0.0000000e+00\n",
      "  0.0000000e+00 0.0000000e+00]\n",
      " [1.0371078e-02 9.0455832e-03 8.1899958e-03 ... 3.5061905e-05\n",
      "  5.2140029e-05 5.0846233e-05]\n",
      " [1.0378065e-02 9.0538636e-03 8.1996992e-03 ... 4.4713632e-04\n",
      "  4.7508234e-04 3.3224712e-04]\n",
      " ...\n",
      " [4.4562748e+01 4.3760731e+01 4.3616692e+01 ... 3.2322130e+00\n",
      "  3.2147419e+00 2.8322585e+00]\n",
      " [4.4573307e+01 4.3770256e+01 4.3625500e+01 ... 3.2322221e+00\n",
      "  3.2147689e+00 2.8322911e+00]\n",
      " [4.4573307e+01 4.3770256e+01 4.3625500e+01 ... 3.2322221e+00\n",
      "  3.2147689e+00 2.8322911e+00]]\n"
     ]
    }
   ],
   "source": [
    "#Print Variables\n",
    "print(ncdf1.variables.keys())\n",
    "print(ncdf1.dimensions)\n",
    "print(ncdf1.variables['pcp_accum'])\n",
    "\n",
    "print(ncdf1.variables['pcp_accum'][:,1,:])\n",
    "print(ncdf1.variables['pcp_accum'][1,:,:])\n",
    "print(ncdf1.variables['pcp_accum'][:,:,1])\n",
    "\n",
    "#print(ncdf3.variables['pcp_accum'][14091,239,240])\n",
    "\n",
    "#print(ncdf1.variables['ilon'][:])\n",
    "#print(ncdf1.variables['ilat'][:])\n",
    "#print(ncdf1.variables['itime'][:])\n"
   ]
  },
  {
   "cell_type": "code",
   "execution_count": 4,
   "metadata": {},
   "outputs": [
    {
     "name": "stdout",
     "output_type": "stream",
     "text": [
      "[8.3689271e-03 9.0455832e-03 9.0538636e-03 ... 4.3760731e+01 4.3770256e+01\n",
      " 4.3770256e+01]\n"
     ]
    }
   ],
   "source": [
    "print(ncdf1.variables['pcp_accum'][:,1,1])"
   ]
  },
  {
   "cell_type": "code",
   "execution_count": 5,
   "metadata": {},
   "outputs": [
    {
     "name": "stdout",
     "output_type": "stream",
     "text": [
      "60\n",
      "1.2562103271484375\n",
      "[-64.75]\n",
      "[-66.]\n",
      "['2010-09-27T00']\n",
      "90\n",
      "1.64947509765625\n",
      "[-64.75]\n",
      "[-66.]\n",
      "['2001-08-03T00']\n",
      "180\n",
      "2.7162036895751953\n",
      "[-64.75]\n",
      "[-66.]\n",
      "['1989-05-04T00']\n",
      "270\n",
      "3.5699920654296875\n",
      "[-64.75]\n",
      "[-66.]\n",
      "['2010-03-02T00']\n",
      "365\n",
      "4.266571044921875\n",
      "[-64.75]\n",
      "[-66.]\n",
      "['2001-02-25T00']\n",
      "545\n",
      "5.936553955078125\n",
      "[-64.75]\n",
      "[-66.]\n",
      "['1998-12-26T00']\n",
      "730\n",
      "7.812534332275391\n",
      "[-64.75]\n",
      "[-66.]\n",
      "['1998-03-12T00']\n",
      "end\n"
     ]
    }
   ],
   "source": [
    "#Obtain\n",
    "roll_days = [1,2,3,4,5,6,7,8,9,10,15,20,30,60,90,180,270,365,545,730]\n",
    "rolling_max = np.zeros((np.shape(pcp)[1], np.shape(pcp)[2]))\n",
    "rolling_mean = np.zeros((np.shape(pcp)[1], np.shape(pcp)[2]))\n",
    "#rolling_p95 = np.zeros((np.shape(pcp)[1], np.shape(pcp)[2]))\n",
    "#rolling_p75 = np.zeros((np.shape(pcp)[1], np.shape(pcp)[2]))\n",
    "#rolling_p50 = np.zeros((np.shape(pcp)[1], np.shape(pcp)[2]))\n",
    "#rolling_p25 = np.zeros((np.shape(pcp)[1], np.shape(pcp)[2]))\n",
    "#rolling_p05 = np.zeros((np.shape(pcp)[1], np.shape(pcp)[2]))\n",
    "\n",
    "roll_days = [60,90,180,270,365,545,730]\n",
    "for n in roll_days:\n",
    "    print(n)\n",
    "    PCP_n = pcp[n:,:,:] - pcp[:-n,:,:]\n",
    "    rolling_max[:,:] = PCP_n.max(axis=0)\n",
    "\n",
    "    #Save max for each lon and lat\n",
    "    np.savetxt('ERA5_PCP_max_' + str(n) + 'd.csv', rolling_max*1000, delimiter=';')\n",
    "\n",
    "    ##Properties of max for this duration\n",
    "    #lon, lat, height\n",
    "    Ant_max = np.max(rolling_max)\n",
    "    Ant_max_coords = np.where(rolling_max == Ant_max)\n",
    "    print(Ant_max)\n",
    "    print(lats[Ant_max_coords[1]])\n",
    "    print(lons[Ant_max_coords[0]])\n",
    "\n",
    "    #time\n",
    "    Ant_max_timecoords = np.where(PCP_n == Ant_max)\n",
    "    print(dtimes[Ant_max_timecoords[0]])\n",
    "\n",
    "print('end')"
   ]
  },
  {
   "cell_type": "code",
   "execution_count": 32,
   "metadata": {},
   "outputs": [],
   "source": [
    "np.savetxt('PCP_max_lats.csv', lons, delimiter=';')\n",
    "np.savetxt('PCP_max_lons.csv', lats, delimiter=';')\n",
    "roll_days = [1,2,3,4,5,6,7,8,9,10,15,20,30,60,90,180,270,365,545,730]\n",
    "np.savetxt('PCP_max_duration.csv', roll_days, delimiter=';')"
   ]
  },
  {
   "cell_type": "code",
   "execution_count": null,
   "metadata": {},
   "outputs": [],
   "source": []
  }
 ],
 "metadata": {
  "kernelspec": {
   "display_name": "Python 3",
   "language": "python",
   "name": "python3"
  },
  "language_info": {
   "codemirror_mode": {
    "name": "ipython",
    "version": 3
   },
   "file_extension": ".py",
   "mimetype": "text/x-python",
   "name": "python",
   "nbconvert_exporter": "python",
   "pygments_lexer": "ipython3",
   "version": "3.8.5"
  }
 },
 "nbformat": 4,
 "nbformat_minor": 2
}
