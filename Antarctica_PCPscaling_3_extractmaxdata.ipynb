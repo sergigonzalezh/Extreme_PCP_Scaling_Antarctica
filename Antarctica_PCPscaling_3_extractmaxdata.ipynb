{
 "cells": [
  {
   "cell_type": "code",
   "execution_count": 1,
   "metadata": {},
   "outputs": [],
   "source": [
    "import os\n",
    "import glob\n",
    "import netCDF4\n",
    "import numpy as np\n",
    "import pandas as pd\n",
    "\n",
    "import matplotlib.pyplot as plt\n",
    "import cartopy.crs as ccrs\n",
    "import cartopy.feature"
   ]
  },
  {
   "cell_type": "code",
   "execution_count": 2,
   "metadata": {},
   "outputs": [],
   "source": [
    "## Load Data\n",
    "#Path\n",
    "os.chdir('D:\\\\Bigfiles\\\\RACMO2_PCP')\n",
    "filename_PCP = 'RACMO2_accum.nc'\n",
    "\n",
    "#Load netcdf\n",
    "ncdf = netCDF4.Dataset(filename_PCP)\n",
    "\n",
    "#Get dimension\n",
    "lons = ncdf.variables['lon'][:]\n",
    "lats = ncdf.variables['lat'][:]\n",
    "times = ncdf.variables['time'][:]\n",
    "\n",
    "#Get variables\n",
    "pcp = ncdf.variables['pcp_Accum'][:]\n",
    "\n",
    "#Calculate datetime\n",
    "dtimes = np.empty(len(times), dtype='datetime64[D]')\n",
    "for i,t in enumerate(times):\n",
    "    dtimes[i] = np.datetime64('1950-01-01') + np.timedelta64(np.int64(t),'D')\n",
    "dtimes = dtimes.astype('datetime64')"
   ]
  },
  {
   "cell_type": "code",
   "execution_count": 5,
   "metadata": {},
   "outputs": [],
   "source": [
    "## Load Data height\n",
    "#Path\n",
    "os.chdir('D:\\\\Bigfiles\\\\RACMO2_PCP')\n",
    "filename_PCP = 'RACMO2.3p2_ANT27_height_latlon.nc'\n",
    "\n",
    "#Load netcdf\n",
    "ncdf = netCDF4.Dataset(filename_PCP)\n",
    "\n",
    "#Get dimension\n",
    "lons = ncdf.variables['lon'][:]\n",
    "lats = ncdf.variables['lat'][:]\n",
    "\n",
    "#Get variables\n",
    "height = np.array(ncdf.variables['height'][:])"
   ]
  },
  {
   "cell_type": "code",
   "execution_count": 134,
   "metadata": {},
   "outputs": [
    {
     "name": "stdout",
     "output_type": "stream",
     "text": [
      "20\n",
      "A\n",
      "B\n",
      "1416.3196563720703\n",
      "-66.87\n",
      "-65.88\n",
      "1385.1632080078125\n",
      "['1995-09-21']\n",
      "end\n"
     ]
    }
   ],
   "source": [
    "#Obtain\n",
    "roll_days = [1,2,3,4,5,6,7,8,9,10,15,20,30,60,90,180,270,365,545,730]\n",
    "rolling_max = np.zeros((np.shape(pcp)[1], np.shape(pcp)[2]))\n",
    "rolling_mean = np.zeros((np.shape(pcp)[1], np.shape(pcp)[2]))\n",
    "#rolling_p95 = np.zeros((np.shape(pcp)[1], np.shape(pcp)[2]))\n",
    "#rolling_p75 = np.zeros((np.shape(pcp)[1], np.shape(pcp)[2]))\n",
    "#rolling_p50 = np.zeros((np.shape(pcp)[1], np.shape(pcp)[2]))\n",
    "#rolling_p25 = np.zeros((np.shape(pcp)[1], np.shape(pcp)[2]))\n",
    "#rolling_p05 = np.zeros((np.shape(pcp)[1], np.shape(pcp)[2]))\n",
    "\n",
    "n=20\n",
    "print(n)\n",
    "PCP_n = pcp[n:,:,:] - pcp[:-n,:,:]\n",
    "print('A')\n",
    "rolling_max[:,:] = PCP_n.max(axis=0)\n",
    "print('B')\n",
    "#rolling_mean[:,:] = PCP_n.mean(axis=0)\n",
    "#print('C')\n",
    "#rolling_p95[:,:] = np.percentile(PCP_n, 95, axis=0)\n",
    "#print('D')\n",
    "#rolling_p75[:,:] = np.percentile(PCP_n, 75, axis=0)\n",
    "#print('E')\n",
    "#rolling_p50[:,:] = np.percentile(PCP_n, 50, axis=0)\n",
    "#print('F')\n",
    "#rolling_p25[:,:] = np.percentile(PCP_n, 25, axis=0)\n",
    "#print('G')\n",
    "#rolling_p05[:,:] = np.percentile(PCP_n, 5, axis=0)\n",
    "\n",
    "#Save max for each lon and lat\n",
    "#np.savetxt('PCP_max_' + str(n) + 'd.csv', rolling_max*24*3600, delimiter=';')\n",
    "#np.savetxt('PCP_mean_' + str(n) + 'd.csv', rolling_mean*24*3600, delimiter=';')\n",
    "\n",
    "##Properties of max for this duration\n",
    "#lon, lat, height\n",
    "rolling_max_ma = np.ma.array(rolling_max, mask=m.mask)\n",
    "Ant_max = rolling_max_ma.max()\n",
    "Ant_max_coords = np.where(rolling_max == rolling_max_ma.max())\n",
    "print(Ant_max*24*3600)\n",
    "print(np.transpose(lats)[Ant_max_coords][0])\n",
    "print(np.transpose(lons)[Ant_max_coords][0])\n",
    "print(np.transpose(height)[Ant_max_coords][0])\n",
    "\n",
    "#time\n",
    "Ant_max_timecoords = np.where(PCP_n == rolling_max_ma.max())\n",
    "print(dtimes[Ant_max_timecoords[0]])\n",
    "\n",
    "print('end')"
   ]
  },
  {
   "cell_type": "code",
   "execution_count": 3,
   "metadata": {},
   "outputs": [
    {
     "name": "stdout",
     "output_type": "stream",
     "text": [
      "odict_keys(['time', 'rlon', 'lon', 'rlat', 'lat', 'pcp_Accum'])\n",
      "OrderedDict([('time', <class 'netCDF4._netCDF4.Dimension'>: name = 'time', size = 14092\n",
      "), ('rlon', <class 'netCDF4._netCDF4.Dimension'>: name = 'rlon', size = 262\n",
      "), ('rlat', <class 'netCDF4._netCDF4.Dimension'>: name = 'rlat', size = 240\n",
      ")])\n",
      "[[[6.67319255e-05 2.10323109e-04 1.84462231e-04 ... 2.23343977e-05\n",
      "   2.44141174e-05 2.39620040e-05]\n",
      "  [1.73882770e-04 2.19907903e-04 4.97324618e-05 ... 2.02546762e-05\n",
      "   2.83927147e-05 2.26960874e-05]\n",
      "  [1.95945904e-04 2.30758626e-04 5.13600717e-05 ... 1.80845327e-05\n",
      "   2.02546762e-05 2.17014385e-05]\n",
      "  ...\n",
      "  [7.53220738e-05 8.03857474e-05 9.13268887e-05 ... 3.34563833e-06\n",
      "   3.25521569e-06 3.16479304e-06]\n",
      "  [7.26998187e-05 7.85772936e-05 9.19598460e-05 ... 3.43606098e-06\n",
      "   3.25521569e-06 3.25521569e-06]\n",
      "  [6.90829111e-05 7.54124994e-05 9.00609666e-05 ... 3.43606098e-06\n",
      "   3.43606098e-06 3.34563833e-06]]\n",
      "\n",
      " [[2.98575615e-04 3.35106393e-04 2.13759165e-04 ... 8.11995487e-05\n",
      "   8.19229317e-05 7.93910949e-05]\n",
      "  [4.43613564e-04 5.02930838e-04 1.87536600e-04 ... 9.22311156e-05\n",
      "   1.03986058e-04 1.02358448e-04]\n",
      "  [5.21557871e-04 5.30057587e-04 1.92419422e-04 ... 8.80716689e-05\n",
      "   9.31353425e-05 1.08868880e-04]\n",
      "  ...\n",
      "  [9.60288598e-05 9.98266187e-05 1.03805214e-04 ... 4.32220295e-05\n",
      "   4.43071040e-05 6.14874079e-05]\n",
      "  [8.80716689e-05 8.87950519e-05 1.00369150e-04 ... 4.12327317e-05\n",
      "   4.28603416e-05 4.72006286e-05]\n",
      "  [8.04761657e-05 8.33696904e-05 9.80181576e-05 ... 2.92969416e-05\n",
      "   4.08710403e-05 4.21369587e-05]]\n",
      "\n",
      " [[5.53024991e-04 6.26267400e-04 5.14504965e-04 ... 9.07843496e-05\n",
      "   9.02418178e-05 8.68057541e-05]\n",
      "  [6.87031366e-04 7.56114256e-04 4.21007921e-04 ... 1.02539299e-04\n",
      "   1.12304944e-04 1.09773107e-04]\n",
      "  [7.17232528e-04 7.16870767e-04 3.44329485e-04 ... 9.87415406e-05\n",
      "   1.01996760e-04 1.17368611e-04]\n",
      "  ...\n",
      "  [9.72947746e-05 1.12124100e-04 1.18272837e-04 ... 1.37804134e-04\n",
      "   1.54622743e-04 1.94951252e-04]\n",
      "  [8.91567397e-05 1.00549994e-04 1.12666632e-04 ... 1.18996220e-04\n",
      "   1.49016545e-04 1.88079139e-04]\n",
      "  [8.17420805e-05 8.53589881e-05 1.09773100e-04 ... 9.00609739e-05\n",
      "   1.15017618e-04 1.17730306e-04]]\n",
      "\n",
      " ...\n",
      "\n",
      " [[5.76458097e-01 5.63234270e-01 5.52295983e-01 ... 5.90235591e-01\n",
      "   5.61412752e-01 5.17232299e-01]\n",
      "  [5.73932469e-01 6.15300179e-01 6.05600476e-01 ... 5.90883255e-01\n",
      "   5.75616300e-01 5.15813887e-01]\n",
      "  [5.91633439e-01 6.36973143e-01 6.08850658e-01 ... 5.48373759e-01\n",
      "   5.38646638e-01 5.39503038e-01]\n",
      "  ...\n",
      "  [5.36729157e-01 5.49883187e-01 5.54317594e-01 ... 5.93631029e-01\n",
      "   6.00974977e-01 5.94792902e-01]\n",
      "  [5.26332319e-01 5.74223042e-01 5.59314370e-01 ... 5.72513282e-01\n",
      "   6.04307294e-01 6.05715334e-01]\n",
      "  [5.35386682e-01 5.38116395e-01 5.61110198e-01 ... 5.62044919e-01\n",
      "   5.76732457e-01 5.71468413e-01]]\n",
      "\n",
      " [[5.76462388e-01 5.63238382e-01 5.52299023e-01 ... 5.90239704e-01\n",
      "   5.61416149e-01 5.17235696e-01]\n",
      "  [5.73936403e-01 6.15303576e-01 6.05603516e-01 ... 5.90886116e-01\n",
      "   5.75618982e-01 5.15816748e-01]\n",
      "  [5.91636837e-01 6.36976540e-01 6.08853698e-01 ... 5.48377514e-01\n",
      "   5.38648963e-01 5.39505184e-01]\n",
      "  ...\n",
      "  [5.36759496e-01 5.49915731e-01 5.54352283e-01 ... 5.93774080e-01\n",
      "   6.01123095e-01 5.94943881e-01]\n",
      "  [5.26365399e-01 5.74257016e-01 5.59346914e-01 ... 5.72649240e-01\n",
      "   6.04458272e-01 6.05869949e-01]\n",
      "  [5.35414696e-01 5.38142025e-01 5.61134040e-01 ... 5.62186122e-01\n",
      "   5.76884151e-01 5.71627200e-01]]\n",
      "\n",
      " [[5.76535463e-01 5.63306570e-01 5.52365243e-01 ... 5.90246439e-01\n",
      "   5.61420679e-01 5.17238796e-01]\n",
      "  [5.74004233e-01 6.15369618e-01 6.05665028e-01 ... 5.90891540e-01\n",
      "   5.75623512e-01 5.15819311e-01]\n",
      "  [5.91699243e-01 6.37036622e-01 6.08908892e-01 ... 5.48382759e-01\n",
      "   5.38652599e-01 5.39507568e-01]\n",
      "  ...\n",
      "  [5.36759496e-01 5.49915910e-01 5.54352283e-01 ... 5.93844473e-01\n",
      "   6.01169765e-01 5.94970107e-01]\n",
      "  [5.26365578e-01 5.74257195e-01 5.59346914e-01 ... 5.72720528e-01\n",
      "   6.04506910e-01 6.05899811e-01]\n",
      "  [5.35414696e-01 5.38142204e-01 5.61134040e-01 ... 5.62263906e-01\n",
      "   5.76943099e-01 5.71654737e-01]]]\n",
      "0.0\n",
      "2.3119354\n",
      "-179.99417\n",
      "179.98895\n",
      "-90.0\n",
      "-46.74918\n",
      "[-32.75 -32.5  -32.25 -32.   -31.75 -31.5  -31.25 -31.   -30.75 -30.5\n",
      " -30.25 -30.   -29.75 -29.5  -29.25 -29.   -28.75 -28.5  -28.25 -28.\n",
      " -27.75 -27.5  -27.25 -27.   -26.75 -26.5  -26.25 -26.   -25.75 -25.5\n",
      " -25.25 -25.   -24.75 -24.5  -24.25 -24.   -23.75 -23.5  -23.25 -23.\n",
      " -22.75 -22.5  -22.25 -22.   -21.75 -21.5  -21.25 -21.   -20.75 -20.5\n",
      " -20.25 -20.   -19.75 -19.5  -19.25 -19.   -18.75 -18.5  -18.25 -18.\n",
      " -17.75 -17.5  -17.25 -17.   -16.75 -16.5  -16.25 -16.   -15.75 -15.5\n",
      " -15.25 -15.   -14.75 -14.5  -14.25 -14.   -13.75 -13.5  -13.25 -13.\n",
      " -12.75 -12.5  -12.25 -12.   -11.75 -11.5  -11.25 -11.   -10.75 -10.5\n",
      " -10.25 -10.    -9.75  -9.5   -9.25  -9.    -8.75  -8.5   -8.25  -8.\n",
      "  -7.75  -7.5   -7.25  -7.    -6.75  -6.5   -6.25  -6.    -5.75  -5.5\n",
      "  -5.25  -5.    -4.75  -4.5   -4.25  -4.    -3.75  -3.5   -3.25  -3.\n",
      "  -2.75  -2.5   -2.25  -2.    -1.75  -1.5   -1.25  -1.    -0.75  -0.5\n",
      "  -0.25   0.     0.25   0.5    0.75   1.     1.25   1.5    1.75   2.\n",
      "   2.25   2.5    2.75   3.     3.25   3.5    3.75   4.     4.25   4.5\n",
      "   4.75   5.     5.25   5.5    5.75   6.     6.25   6.5    6.75   7.\n",
      "   7.25   7.5    7.75   8.     8.25   8.5    8.75   9.     9.25   9.5\n",
      "   9.75  10.    10.25  10.5   10.75  11.    11.25  11.5   11.75  12.\n",
      "  12.25  12.5   12.75  13.    13.25  13.5   13.75  14.    14.25  14.5\n",
      "  14.75  15.    15.25  15.5   15.75  16.    16.25  16.5   16.75  17.\n",
      "  17.25  17.5   17.75  18.    18.25  18.5   18.75  19.    19.25  19.5\n",
      "  19.75  20.    20.25  20.5   20.75  21.    21.25  21.5   21.75  22.\n",
      "  22.25  22.5   22.75  23.    23.25  23.5   23.75  24.    24.25  24.5\n",
      "  24.75  25.    25.25  25.5   25.75  26.    26.25  26.5   26.75  27.\n",
      "  27.25  27.5   27.75  28.    28.25  28.5   28.75  29.    29.25  29.5\n",
      "  29.75  30.    30.25  30.5   30.75  31.    31.25  31.5   31.75  32.\n",
      "  32.25  32.5 ]\n",
      "[-30.   -29.75 -29.5  -29.25 -29.   -28.75 -28.5  -28.25 -28.   -27.75\n",
      " -27.5  -27.25 -27.   -26.75 -26.5  -26.25 -26.   -25.75 -25.5  -25.25\n",
      " -25.   -24.75 -24.5  -24.25 -24.   -23.75 -23.5  -23.25 -23.   -22.75\n",
      " -22.5  -22.25 -22.   -21.75 -21.5  -21.25 -21.   -20.75 -20.5  -20.25\n",
      " -20.   -19.75 -19.5  -19.25 -19.   -18.75 -18.5  -18.25 -18.   -17.75\n",
      " -17.5  -17.25 -17.   -16.75 -16.5  -16.25 -16.   -15.75 -15.5  -15.25\n",
      " -15.   -14.75 -14.5  -14.25 -14.   -13.75 -13.5  -13.25 -13.   -12.75\n",
      " -12.5  -12.25 -12.   -11.75 -11.5  -11.25 -11.   -10.75 -10.5  -10.25\n",
      " -10.    -9.75  -9.5   -9.25  -9.    -8.75  -8.5   -8.25  -8.    -7.75\n",
      "  -7.5   -7.25  -7.    -6.75  -6.5   -6.25  -6.    -5.75  -5.5   -5.25\n",
      "  -5.    -4.75  -4.5   -4.25  -4.    -3.75  -3.5   -3.25  -3.    -2.75\n",
      "  -2.5   -2.25  -2.    -1.75  -1.5   -1.25  -1.    -0.75  -0.5   -0.25\n",
      "   0.     0.25   0.5    0.75   1.     1.25   1.5    1.75   2.     2.25\n",
      "   2.5    2.75   3.     3.25   3.5    3.75   4.     4.25   4.5    4.75\n",
      "   5.     5.25   5.5    5.75   6.     6.25   6.5    6.75   7.     7.25\n",
      "   7.5    7.75   8.     8.25   8.5    8.75   9.     9.25   9.5    9.75\n",
      "  10.    10.25  10.5   10.75  11.    11.25  11.5   11.75  12.    12.25\n",
      "  12.5   12.75  13.    13.25  13.5   13.75  14.    14.25  14.5   14.75\n",
      "  15.    15.25  15.5   15.75  16.    16.25  16.5   16.75  17.    17.25\n",
      "  17.5   17.75  18.    18.25  18.5   18.75  19.    19.25  19.5   19.75\n",
      "  20.    20.25  20.5   20.75  21.    21.25  21.5   21.75  22.    22.25\n",
      "  22.5   22.75  23.    23.25  23.5   23.75  24.    24.25  24.5   24.75\n",
      "  25.    25.25  25.5   25.75  26.    26.25  26.5   26.75  27.    27.25\n",
      "  27.5   27.75  28.    28.25  28.5   28.75  29.    29.25  29.5   29.75]\n"
     ]
    }
   ],
   "source": [
    "1717\n",
    "#Print Variables\n",
    "print(ncdf.variables.keys())\n",
    "print(ncdf.dimensions)\n",
    "\n",
    "print(ncdf.variables['pcp_Accum'][:])\n",
    "print(ncdf.variables['pcp_Accum'][:].min())\n",
    "print(ncdf.variables['pcp_Accum'][:].max())\n",
    "\n",
    "print(ncdf.variables['lon'][:].min())\n",
    "print(ncdf.variables['lon'][:].max())\n",
    "print(ncdf.variables['lat'][:].min())\n",
    "print(ncdf.variables['lat'][:].max())\n",
    "\n",
    "print(ncdf.variables['rlon'][:])\n",
    "print(ncdf.variables['rlat'][:])\n",
    "\n",
    "print(dtimes)"
   ]
  },
  {
   "cell_type": "code",
   "execution_count": 3,
   "metadata": {},
   "outputs": [],
   "source": [
    "#Save lons and lats\n",
    "np.savetxt('PCP_max_lons.csv', lons, delimiter=';')\n",
    "np.savetxt('PCP_max_lats.csv', lats, delimiter=';')"
   ]
  },
  {
   "cell_type": "code",
   "execution_count": 12,
   "metadata": {},
   "outputs": [
    {
     "name": "stdout",
     "output_type": "stream",
     "text": [
      "[   1440    2880    4320    5760    7200    8640   10080   11520   12960\n",
      "   14400   21600   28800   43200   86400  129600  259200  388800  518400\n",
      "  777600 1036800]\n"
     ]
    }
   ],
   "source": [
    "#Save temporal array\n",
    "os.chdir('D:\\\\Bigfiles\\\\RACMO2_PCP')\n",
    "roll_days = np.array([1,2,3,4,5,6,7,8,9,10,15,20,30,60,90,180,270,360,540,720])*1440\n",
    "print(roll_days)\n",
    "np.savetxt('PCP_max_duration.csv', roll_days, delimiter=';', fmt='%10.0f')"
   ]
  },
  {
   "cell_type": "code",
   "execution_count": 4,
   "metadata": {},
   "outputs": [
    {
     "name": "stdout",
     "output_type": "stream",
     "text": [
      "B\n"
     ]
    }
   ],
   "source": [
    "rolling_max[:,:] = PCP_n.max(axis=0)\n",
    "print('B')"
   ]
  },
  {
   "cell_type": "code",
   "execution_count": 98,
   "metadata": {},
   "outputs": [
    {
     "data": {
      "text/plain": [
       "array(['2016-07-14'], dtype='datetime64[D]')"
      ]
     },
     "execution_count": 98,
     "metadata": {},
     "output_type": "execute_result"
    }
   ],
   "source": [
    "dtimes[Ant_max_timecoords[0]]"
   ]
  },
  {
   "cell_type": "code",
   "execution_count": 111,
   "metadata": {},
   "outputs": [
    {
     "data": {
      "text/plain": [
       "220.63980102539062"
      ]
     },
     "execution_count": 111,
     "metadata": {},
     "output_type": "execute_result"
    }
   ],
   "source": [
    "(pcp[13711,48,133]-pcp[13710,48,133])*24*3600"
   ]
  },
  {
   "cell_type": "code",
   "execution_count": 104,
   "metadata": {},
   "outputs": [
    {
     "data": {
      "text/plain": [
       "array([13709], dtype=int64)"
      ]
     },
     "execution_count": 104,
     "metadata": {},
     "output_type": "execute_result"
    }
   ],
   "source": [
    "Ant_max_timecoords[0]"
   ]
  },
  {
   "cell_type": "code",
   "execution_count": 114,
   "metadata": {},
   "outputs": [
    {
     "data": {
      "text/plain": [
       "numpy.datetime64('1979-01-01')"
      ]
     },
     "execution_count": 114,
     "metadata": {},
     "output_type": "execute_result"
    }
   ],
   "source": [
    "dtimes[0]"
   ]
  },
  {
   "cell_type": "code",
   "execution_count": 112,
   "metadata": {},
   "outputs": [
    {
     "data": {
      "text/plain": [
       "15.742222499102354"
      ]
     },
     "execution_count": 112,
     "metadata": {},
     "output_type": "execute_result"
    }
   ],
   "source": [
    "(pcp[1,48,133]-pcp[0,48,133])*24*3600"
   ]
  },
  {
   "cell_type": "code",
   "execution_count": 85,
   "metadata": {},
   "outputs": [
    {
     "data": {
      "text/plain": [
       "<class 'netCDF4._netCDF4.Variable'>\n",
       "float32 pcp_Accum(time, rlon, rlat)\n",
       "    units: kg m-2 s-1\n",
       "unlimited dimensions: \n",
       "current shape = (14092, 262, 240)\n",
       "filling on, default _FillValue of 9.969209968386869e+36 used"
      ]
     },
     "execution_count": 85,
     "metadata": {},
     "output_type": "execute_result"
    }
   ],
   "source": [
    " ## Load Data\n",
    "#Path\n",
    "os.chdir('D:\\\\Bigfiles\\\\RACMO2_PCP')\n",
    "filename_PCP = 'RACMO2_accum.nc'\n",
    "\n",
    "#Load netcdf\n",
    "ncdf = netCDF4.Dataset(filename_PCP)\n",
    "ncdf.variables['pcp_Accum']"
   ]
  },
  {
   "cell_type": "code",
   "execution_count": null,
   "metadata": {},
   "outputs": [],
   "source": []
  }
 ],
 "metadata": {
  "kernelspec": {
   "display_name": "Python 3 (ipykernel)",
   "language": "python",
   "name": "python3"
  },
  "language_info": {
   "codemirror_mode": {
    "name": "ipython",
    "version": 3
   },
   "file_extension": ".py",
   "mimetype": "text/x-python",
   "name": "python",
   "nbconvert_exporter": "python",
   "pygments_lexer": "ipython3",
   "version": "3.9.12"
  }
 },
 "nbformat": 4,
 "nbformat_minor": 2
}
