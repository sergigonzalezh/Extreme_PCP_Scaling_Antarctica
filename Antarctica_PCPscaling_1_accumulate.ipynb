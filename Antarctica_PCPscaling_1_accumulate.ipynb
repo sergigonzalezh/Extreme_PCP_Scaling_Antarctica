{
 "cells": [
  {
   "cell_type": "code",
   "execution_count": 1,
   "metadata": {},
   "outputs": [],
   "source": [
    "import os\n",
    "import netCDF4\n",
    "import numpy as np\n",
    "import pandas as pd\n",
    "\n",
    "import matplotlib.pyplot as plt\n",
    "import cartopy.crs as ccrs\n",
    "import cartopy.feature"
   ]
  },
  {
   "cell_type": "code",
   "execution_count": 2,
   "metadata": {},
   "outputs": [],
   "source": [
    "## Load Data\n",
    "#Path\n",
    "os.chdir('D:\\\\Bigfiles\\\\RACMO2_PCP')\n",
    "filename_PCP = 'RACMO2.3p2_ANT27_precip_daily_1979-201707.nc'\n",
    "\n",
    "#Load netcdf\n",
    "ncdf = netCDF4.Dataset(filename_PCP)\n",
    "\n",
    "#Get dimension\n",
    "lons = ncdf.variables['lon'][:]\n",
    "lats = ncdf.variables['lat'][:]\n",
    "times = ncdf.variables['time'][:]\n",
    "\n",
    "#Get variables\n",
    "pcp = ncdf.variables['precip'][:]\n",
    "\n",
    "#Calculate datetime\n",
    "dtimes = np.empty(len(times), dtype='datetime64[D]')\n",
    "for i,t in enumerate(times):\n",
    "    dtimes[i] = np.datetime64('1950-01-01') + np.timedelta64(np.int64(t),'D')\n",
    "dtimes = dtimes.astype('datetime64')"
   ]
  },
  {
   "cell_type": "code",
   "execution_count": 5,
   "metadata": {},
   "outputs": [
    {
     "name": "stdout",
     "output_type": "stream",
     "text": [
      "odict_keys(['precip', 'rotated_latitude_longitude', 'time', 'time_bnds', 'height', 'rlat', 'rlon', 'lat', 'lon'])\n",
      "OrderedDict([('time', <class 'netCDF4._netCDF4.Dimension'> (unlimited): name = 'time', size = 14092\n",
      "), ('height', <class 'netCDF4._netCDF4.Dimension'>: name = 'height', size = 1\n",
      "), ('rlat', <class 'netCDF4._netCDF4.Dimension'>: name = 'rlat', size = 240\n",
      "), ('rlon', <class 'netCDF4._netCDF4.Dimension'>: name = 'rlon', size = 262\n",
      "), ('bnds', <class 'netCDF4._netCDF4.Dimension'>: name = 'bnds', size = 2\n",
      ")])\n",
      "<class 'netCDF4._netCDF4.Variable'>\n",
      "float32 precip(time, height, rlat, rlon)\n",
      "    _FillValue: -9999.0\n",
      "    standard_name: precipitation_flux\n",
      "    long_name: Total Precipitative Flux\n",
      "    units: kg m-2 s-1\n",
      "    cell_methods: time: mean (comment: 24-hr averaged values)\n",
      "    grid_mapping: rotated_latitude_longitude\n",
      "    coordinates: lat lon\n",
      "unlimited dimensions: time\n",
      "current shape = (14092, 1, 240, 262)\n",
      "filling on\n",
      "-179.99416747585383\n",
      "-89.99999997945034\n"
     ]
    }
   ],
   "source": [
    "#Print Variables\n",
    "print(ncdf.variables.keys())\n",
    "print(ncdf.dimensions)\n",
    "\n",
    "#print(ncdf.variables['rotated_latitude_longitude'])\n",
    "#print(ncdf.variables['rlat'])\n",
    "#print(ncdf.variables['rlon'])\n",
    "print(ncdf.variables['precip'])\n",
    "\n",
    "print(ncdf.variables['lon'][:].min())\n",
    "print(ncdf.variables['lat'][:].min())\n",
    "#print(ncdf.variables['rlon'][:])\n",
    "#print(ncdf.variables['rlat'][:])\n",
    "#print(ncdf.variables['rotated_latitude_longitude'][:])"
   ]
  },
  {
   "cell_type": "code",
   "execution_count": null,
   "metadata": {},
   "outputs": [],
   "source": [
    "print(np.shape(pcp))\n",
    "PCP_max = np.max(pcp, axis=0)*3600*24\n",
    "print(np.shape(PCP_max))\n",
    "print(PCP_max)\n",
    "np.percentile(PCP_max, 100)"
   ]
  },
  {
   "cell_type": "code",
   "execution_count": null,
   "metadata": {},
   "outputs": [],
   "source": [
    "PCP_c=pcp.cumsum(axis=0)\n"
   ]
  },
  {
   "cell_type": "code",
   "execution_count": null,
   "metadata": {},
   "outputs": [],
   "source": [
    "print(np.shape(PCP_c))"
   ]
  },
  {
   "cell_type": "code",
   "execution_count": null,
   "metadata": {},
   "outputs": [],
   "source": [
    "PCP_n = PCP[1:,:,:,:] - PCP[:-1,:,:,:]"
   ]
  },
  {
   "cell_type": "code",
   "execution_count": null,
   "metadata": {},
   "outputs": [],
   "source": [
    "pcp = pcp*3600*24"
   ]
  },
  {
   "cell_type": "code",
   "execution_count": null,
   "metadata": {},
   "outputs": [],
   "source": [
    "pcp.reshape(np.shape(pcp)[0],np.shape(pcp)[2],np.shape(pcp)[3])"
   ]
  },
  {
   "cell_type": "code",
   "execution_count": null,
   "metadata": {},
   "outputs": [],
   "source": [
    "pcp_day = np.zeros(np.shape(pcp))\n",
    "print(np.shape(pcp_day))\n",
    "print(500%1000)\n",
    "\n",
    "for idx, entry in enumerate(pcp):\n",
    "    processed_entry = entry * 3600 * 24\n",
    "    pcp_day[idx] = processed_entry\n",
    "    if idx % 1000000 == 0:\n",
    "        print(idx)"
   ]
  },
  {
   "cell_type": "code",
   "execution_count": 3,
   "metadata": {
    "scrolled": true
   },
   "outputs": [
    {
     "name": "stdout",
     "output_type": "stream",
     "text": [
      "(14092, 1, 240, 262)\n",
      "14092\n",
      "(262,)\n",
      "(14092, 262, 240)\n",
      "LON  160\n",
      "LON  161\n",
      "LON  162\n",
      "LON  163\n",
      "LON  164\n",
      "LON  165\n",
      "LON  166\n",
      "LON  167\n",
      "LON  168\n",
      "LON  169\n",
      "LON  170\n",
      "LON  171\n",
      "LON  172\n",
      "LON  173\n",
      "LON  174\n",
      "LON  175\n",
      "LON  176\n",
      "LON  177\n",
      "LON  178\n",
      "LON  179\n",
      "LON  180\n",
      "LON  181\n",
      "LON  182\n",
      "LON  183\n",
      "LON  184\n",
      "LON  185\n",
      "LON  186\n",
      "LON  187\n",
      "LON  188\n",
      "LON  189\n",
      "LON  190\n",
      "LON  191\n",
      "LON  192\n",
      "LON  193\n",
      "LON  194\n",
      "LON  195\n",
      "LON  196\n",
      "LON  197\n",
      "LON  198\n",
      "LON  199\n",
      "LON  200\n",
      "LON  201\n",
      "LON  202\n",
      "LON  203\n",
      "LON  204\n",
      "LON  205\n",
      "LON  206\n",
      "LON  207\n",
      "LON  208\n",
      "LON  209\n",
      "LON  210\n",
      "LON  211\n",
      "LON  212\n",
      "LON  213\n",
      "LON  214\n",
      "LON  215\n",
      "LON  216\n",
      "LON  217\n",
      "LON  218\n",
      "LON  219\n",
      "LON  220\n",
      "LON  221\n",
      "LON  222\n",
      "LON  223\n",
      "LON  224\n",
      "LON  225\n",
      "LON  226\n",
      "LON  227\n",
      "LON  228\n",
      "LON  229\n",
      "LON  230\n",
      "LON  231\n",
      "LON  232\n",
      "LON  233\n",
      "LON  234\n",
      "LON  235\n",
      "LON  236\n",
      "LON  237\n",
      "LON  238\n",
      "LON  239\n"
     ]
    }
   ],
   "source": [
    "print(np.shape(pcp))\n",
    "print(np.shape(pcp)[0])\n",
    "pcp_day5 = np.zeros([np.shape(pcp)[0],np.shape(pcp)[3],np.shape(pcp)[2]])\n",
    "rlons = ncdf.variables['rlon'][:]\n",
    "rlats = ncdf.variables['rlat'][:]\n",
    "print(np.shape(rlons))\n",
    "print(np.shape(pcp_day5))\n",
    "for i in range(160,240):\n",
    "    print('LON ', i)\n",
    "    for j, lat in enumerate(rlats):\n",
    "        pcp_day5[:,i,j] = pcp[:,0,j,i].cumsum()\n",
    "        "
   ]
  },
  {
   "cell_type": "code",
   "execution_count": 8,
   "metadata": {},
   "outputs": [
    {
     "name": "stdout",
     "output_type": "stream",
     "text": [
      "(14092, 262, 240)\n",
      "[  0   1   2   3   4   5   6   7   8   9  10  11  12  13  14  15  16  17\n",
      "  18  19  20  21  22  23  24  25  26  27  28  29  30  31  32  33  34  35\n",
      "  36  37  38  39  40  41  42  43  44  45  46  47  48  49  50  51  52  53\n",
      "  54  55  56  57  58  59  60  61  62  63  64  65  66  67  68  69  70  71\n",
      "  72  73  74  75  76  77  78  79  80  81  82  83  84  85  86  87  88  89\n",
      "  90  91  92  93  94  95  96  97  98  99 100 101 102 103 104 105 106 107\n",
      " 108 109 110 111 112 113 114 115 116 117 118 119 120 121 122 123 124 125\n",
      " 126 127 128 129 130 131 132 133 134 135 136 137 138 139 140 141 142 143\n",
      " 144 145 146 147 148 149 150 151 152 153 154 155 156 157 158 159 160 161\n",
      " 162 163 164 165 166 167 168 169 170 171 172 173 174 175 176 177 178 179\n",
      " 180 181 182 183 184 185 186 187 188 189 190 191 192 193 194 195 196 197\n",
      " 198 199 200 201 202 203 204 205 206 207 208 209 210 211 212 213 214 215\n",
      " 216 217 218 219 220 221 222 223 224 225 226 227 228 229 230 231 232 233\n",
      " 234 235 236 237 238 239]\n",
      "[  0   1   2   3   4   5   6   7   8   9  10  11  12  13  14  15  16  17\n",
      "  18  19  20  21  22  23  24  25  26  27  28  29  30  31  32  33  34  35\n",
      "  36  37  38  39  40  41  42  43  44  45  46  47  48  49  50  51  52  53\n",
      "  54  55  56  57  58  59  60  61  62  63  64  65  66  67  68  69  70  71\n",
      "  72  73  74  75  76  77  78  79  80  81  82  83  84  85  86  87  88  89\n",
      "  90  91  92  93  94  95  96  97  98  99 100 101 102 103 104 105 106 107\n",
      " 108 109 110 111 112 113 114 115 116 117 118 119 120 121 122 123 124 125\n",
      " 126 127 128 129 130 131 132 133 134 135 136 137 138 139 140 141 142 143\n",
      " 144 145 146 147 148 149 150 151 152 153 154 155 156 157 158 159 160 161\n",
      " 162 163 164 165 166 167 168 169 170 171 172 173 174 175 176 177 178 179\n",
      " 180 181 182 183 184 185 186 187 188 189 190 191 192 193 194 195 196 197\n",
      " 198 199 200 201 202 203 204 205 206 207 208 209 210 211 212 213 214 215\n",
      " 216 217 218 219 220 221 222 223 224 225 226 227 228 229 230 231 232 233\n",
      " 234 235 236 237 238 239 240 241 242 243 244 245 246 247 248 249 250 251\n",
      " 252 253 254 255 256 257 258 259 260 261]\n"
     ]
    }
   ],
   "source": [
    "print(np.shape(pcp_day5))\n",
    "print(np.arange(0,np.shape(pcp_day5)[2]))\n",
    "print(np.arange(0,np.shape(pcp_day5)[1]))"
   ]
  },
  {
   "cell_type": "code",
   "execution_count": 5,
   "metadata": {},
   "outputs": [],
   "source": [
    "#Write numpy array as NetCDF\n",
    "ncout = netCDF4.Dataset('RACMO2_accum_160_240_5.nc','w','NETCDF4_classic'); # using netCDF3 for output format \n",
    "ncout.createDimension('ilon',np.shape(pcp_day5)[1])\n",
    "ncout.createDimension('ilat',np.shape(pcp_day5)[2])\n",
    "ncout.createDimension('itime',np.shape(pcp_day5)[0])\n",
    "\n",
    "lonvar = ncout.createVariable('ilon','float32',('ilon')); lonvar[:] = np.arange(0,np.shape(pcp_day5)[1]);\n",
    "latvar = ncout.createVariable('ilat','float32',('ilat')); latvar[:] = np.arange(0,np.shape(pcp_day5)[2]);\n",
    "timevar = ncout.createVariable('itime','float64',('itime')); timevar.setncattr('units','days from begining'); timevar[:]=np.arange(0,np.shape(pcp_day5)[0]);\n",
    "myvar = ncout.createVariable('pcp_accum','float32',('itime','ilon','ilat')); myvar.setncattr('units','kg m-2 s-1'); myvar[:] = pcp_day5;\n",
    "\n",
    "ncout.close();"
   ]
  },
  {
   "cell_type": "code",
   "execution_count": 21,
   "metadata": {},
   "outputs": [
    {
     "data": {
      "text/plain": [
       "0.05664825439453125"
      ]
     },
     "execution_count": 21,
     "metadata": {},
     "output_type": "execute_result"
    }
   ],
   "source": []
  },
  {
   "cell_type": "code",
   "execution_count": null,
   "metadata": {},
   "outputs": [
    {
     "name": "stdout",
     "output_type": "stream",
     "text": [
      "odict_keys(['ilon', 'ilat', 'itime', 'myvar'])\n"
     ]
    }
   ],
   "source": [
    "## Load Data\n",
    "#Path\n",
    "os.chdir('D:\\\\Bigfiles\\\\RACMO2_PCP')\n",
    "filename_PCPaccum1 = 'RACMO2_accum_lon_0_80.nc'\n",
    "filename_PCPaccum2 = 'RACMO2_accum_lon_80_160.nc'\n",
    "filename_PCPaccum3 = 'RACMO2_accum_lon_160_240.nc'\n",
    "\n",
    "#Load netcdf\n",
    "ncdf1 = netCDF4.Dataset(filename_PCPaccum1)\n",
    "ncdf2 = netCDF4.Dataset(filename_PCPaccum2)\n",
    "ncdf3 = netCDF4.Dataset(filename_PCPaccum3)\n",
    "\n",
    "print(ncdf1.variables.keys())\n",
    "\n",
    "#Get variables\n",
    "pcp1 = ncdf1.variables['myvar'][:]\n",
    "pcp2 = ncdf2.variables['myvar'][:]\n",
    "pcp3 = ncdf3.variables['myvar'][:]"
   ]
  },
  {
   "cell_type": "code",
   "execution_count": null,
   "metadata": {},
   "outputs": [],
   "source": []
  }
 ],
 "metadata": {
  "kernelspec": {
   "display_name": "Python 3",
   "language": "python",
   "name": "python3"
  },
  "language_info": {
   "codemirror_mode": {
    "name": "ipython",
    "version": 3
   },
   "file_extension": ".py",
   "mimetype": "text/x-python",
   "name": "python",
   "nbconvert_exporter": "python",
   "pygments_lexer": "ipython3",
   "version": "3.8.5"
  }
 },
 "nbformat": 4,
 "nbformat_minor": 2
}
